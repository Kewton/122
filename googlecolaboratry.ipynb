{
  "nbformat": 4,
  "nbformat_minor": 2,
  "metadata": {
    "kernelspec": {
      "name": "python3",
      "display_name": "Python 3"
    },
    "language_info": {
      "name": "python"
    }
  },
  "cells": [
    {
      "cell_type": "markdown",
      "source": [
        "# スクレイピング関数の定義"
      ],
      "metadata": {
        "id": "auGhDkWpDTTX"
      }
    },
    {
      "cell_type": "code",
      "execution_count": null,
      "source": [
        "from bs4 import BeautifulSoup\r\n",
        "import requests\r\n",
        "import pandas as pd\r\n",
        "import re\r\n",
        "import itertools\r\n",
        "import time\r\n",
        "from tqdm import notebook as tqdm\r\n",
        "import numpy as np\r\n",
        "import plotly.express as px\r\n",
        "import random\r\n",
        "\r\n",
        "def get_html_doc(_url):\r\n",
        "  BASE_URL = \"https://www.google.com/search\"\r\n",
        "\r\n",
        "  # 国：米国⇒「us」、日本⇒「jp」、英国⇒「uk」、フランス⇒「fr」\r\n",
        "  GL_URL = \"gl=jp\"\r\n",
        "  \r\n",
        "  # 言語：英語⇒「en」、日本語⇒「ja」、ドイツ語⇒「de」・・・\r\n",
        "  HL_URL = \"hl=en\"\r\n",
        "\r\n",
        "  HEADERS = {\r\n",
        "    \"User-Agent\":\r\n",
        "    \"Mozilla/5.0 (Windows NT 10.0; Win64; x64) AppleWebKit/537.36 (KHTML, like Gecko) Chrome/70.0.3538.102 Safari/537.36 Edge/18.19582\"\r\n",
        "  }\r\n",
        "  url = BASE_URL + \"?\"+ GL_URL + \"&\" + HL_URL + \"&\" + _url\r\n",
        "  print(url)\r\n",
        "  html_doc = requests.get(url, headers=HEADERS, stream=True).content\r\n",
        "  print(html_doc)\r\n",
        "  return html_doc\r\n",
        "\r\n",
        "def find_result_stats(_html_doc):\r\n",
        "  soup = BeautifulSoup(_html_doc, \"html.parser\")\r\n",
        "  tag = soup.find(\"div\", {\"id\": \"result-stats\"})\r\n",
        "  if tag == None:\r\n",
        "      tag = \"About 0 results\"\r\n",
        "  print(\"tag=\")\r\n",
        "  print(tag)\r\n",
        "  return tag\r\n",
        "\r\n",
        "def extract_hit_count(_text):\r\n",
        "  text = _text\r\n",
        "  text = text.replace('About ', '')\r\n",
        "  text = text.replace('results', 'result')\r\n",
        "  text = re.search('(.+) result', text).group(1)\r\n",
        "  text = text.replace(',', '')\r\n",
        "  return int(text)\r\n",
        "\r\n",
        "def get_search_hit_count(keyword, year):\r\n",
        "    # キーワード検索\r\n",
        "    q_url = \"q=%22\" + keyword.replace(\" \", \"+\") + \"%22\"\r\n",
        "    # 期間指定\r\n",
        "    tbs_url = \"tbs=cdr%3A1%2Ccd_min%3A1%2F1%2F\" + str(year) + \"%2Ccd_max%3A12%2F31%2F\" + str(year)\r\n",
        "    try:\r\n",
        "      _url = q_url + \"&\" + tbs_url\r\n",
        "      html_doc = get_html_doc(_url)\r\n",
        "      tag = find_result_stats(html_doc)\r\n",
        "      hit_count = extract_hit_count(tag.text)\r\n",
        "    except Exception as e:\r\n",
        "      print(\"例外args:\", e.args)\r\n",
        "      hit_count = 0\r\n",
        "    return hit_count\r\n",
        "\r\n",
        "def get_search_hit_countlist(_keyword_list, _fromyear, _toyear):\r\n",
        "  columns = [\"keyword\", \"year\", \"hit_count\"]\r\n",
        "  df = pd.DataFrame(columns=columns)\r\n",
        "\r\n",
        "  year_list = list(range(_fromyear, _toyear + 1))\r\n",
        "  print(year_list)\r\n",
        "  for_list = [item for item in itertools.product(_keyword_list, year_list)]\r\n",
        "\r\n",
        "  for keyword, year in tqdm.tqdm(for_list):\r\n",
        "      print(keyword, year)\r\n",
        "      hit_count = get_search_hit_count(keyword, year)\r\n",
        "      sr = pd.Series([keyword, year, hit_count], index=df.columns)\r\n",
        "      df = df.append(sr, ignore_index=True)\r\n",
        "      _sleeptime = 20 + random.randrange(10) + random.randrange(10) + random.randrange(10) + random.randrange(10)\r\n",
        "      print(\"wait \" + str(_sleeptime) + \"[sec]\")\r\n",
        "      time.sleep(_sleeptime)\r\n",
        "\r\n",
        "  return df"
      ],
      "outputs": [],
      "metadata": {
        "id": "QSsSSMzxrYfB"
      }
    },
    {
      "cell_type": "markdown",
      "source": [
        "# Google ドライブのマウント\r\n",
        "- \"./drive/MyDrive/Colab Notebooks\"が存在しないというエラーが出力された場合は、\"./drive/MyDrive\"に書き換えて進めてください"
      ],
      "metadata": {
        "id": "56vmddJbDalQ"
      }
    },
    {
      "cell_type": "code",
      "execution_count": null,
      "source": [
        "# Googleドライブのマウント\r\n",
        "from google.colab import drive\r\n",
        "drive.mount('/content/drive')\r\n",
        "\r\n",
        "import os\r\n",
        "# Colab Notebooksへの相対パスを定義\r\n",
        "_colab_dir = \"./drive/MyDrive/Colab Notebooks\"\r\n",
        "# カレントディレクトリの確認\r\n",
        "print(os.getcwd())\r\n",
        "# Colab Notebooksのファイル一覧を取得。Colab Notebooksにアクセス出来ていることを確認\r\n",
        "print(os.listdir(_colab_dir))"
      ],
      "outputs": [],
      "metadata": {
        "id": "oV17EYghw47x"
      }
    },
    {
      "cell_type": "markdown",
      "source": [
        "# メイン処理"
      ],
      "metadata": {
        "id": "CMclqaEfDln_"
      }
    },
    {
      "cell_type": "markdown",
      "source": [
        "## スクレイピング関数の実行・DataFrameの取得"
      ],
      "metadata": {
        "id": "eqXsjXdNDnem"
      }
    },
    {
      "cell_type": "code",
      "execution_count": null,
      "source": [
        "# ===============\r\n",
        "# 検索条件の指定\r\n",
        "# ===============\r\n",
        "# 検索キーワードリスト\r\n",
        "p_keyword_list = [\r\n",
        "    \"AI\",\r\n",
        "    \"ビッグデータ\",\r\n",
        "    \"ディープラーニング\",\r\n",
        "    \"gpgpu\",\r\n",
        "    \"cuDNN\"\r\n",
        "]\r\n",
        "# 検索開始年\r\n",
        "p_from = 2015\r\n",
        "# 検索終了年\r\n",
        "p_to = 2020\r\n",
        "\r\n",
        "# ===============\r\n",
        "# スクレイピング関数の実行・DataFrameの取得\r\n",
        "# ===============\r\n",
        "df = get_search_hit_countlist(p_keyword_list, p_from, p_to)"
      ],
      "outputs": [],
      "metadata": {
        "id": "v2kSZyQJJLTW"
      }
    },
    {
      "cell_type": "markdown",
      "source": [
        "## DataFrameの可視化"
      ],
      "metadata": {
        "id": "r-FLJubhDqzq"
      }
    },
    {
      "cell_type": "code",
      "execution_count": null,
      "source": [
        "from plotly.offline import iplot, plot, download_plotlyjs, init_notebook_mode\r\n",
        "import plotly.graph_objs as go\r\n",
        "\r\n",
        "# 可視化\r\n",
        "fig = px.line(df, x=\"year\", y=\"hit_count\", color='keyword',log_y=True)\r\n",
        "fig.show()"
      ],
      "outputs": [],
      "metadata": {
        "id": "i597UcTCzghu"
      }
    },
    {
      "cell_type": "markdown",
      "source": [
        "## 可視化結果をhtmlファイルとして保存"
      ],
      "metadata": {
        "id": "RSyQVBPKDxLx"
      }
    },
    {
      "cell_type": "code",
      "execution_count": null,
      "source": [
        "# 保存\r\n",
        "import datetime\r\n",
        "time = datetime.datetime.now()\r\n",
        "_filename = time.strftime('%Y%m%d%H%M%S')\r\n",
        "plot(fig, filename=_colab_dir + \"/\" + _filename + \".html\", auto_open=False)"
      ],
      "outputs": [],
      "metadata": {
        "id": "kOmURfNdDuoW"
      }
    }
  ]
}