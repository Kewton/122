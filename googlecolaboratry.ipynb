{
  "nbformat": 4,
  "nbformat_minor": 0,
  "metadata": {
    "kernelspec": {
      "name": "python3",
      "display_name": "Python 3"
    },
    "language_info": {
      "name": "python"
    }
  },
  "cells": [
    {
      "cell_type": "markdown",
      "metadata": {
        "id": "auGhDkWpDTTX"
      },
      "source": [
        "# スクレイピング関数の定義"
      ]
    },
    {
      "cell_type": "code",
      "metadata": {
        "id": "QSsSSMzxrYfB"
      },
      "source": [
        "from bs4 import BeautifulSoup\n",
        "import requests\n",
        "import pandas as pd\n",
        "import re\n",
        "import itertools\n",
        "import time\n",
        "from tqdm import notebook as tqdm\n",
        "import numpy as np\n",
        "import plotly.express as px\n",
        "import random\n",
        "\n",
        "def get_html_doc(_url):\n",
        "  BASE_URL = \"https://www.google.com/search\"\n",
        "\n",
        "  # 国：米国⇒「us」、日本⇒「jp」、英国⇒「uk」、フランス⇒「fr」\n",
        "  GL_URL = \"gl=jp\"\n",
        "  \n",
        "  # 言語：英語⇒「en」、日本語⇒「ja」、ドイツ語⇒「de」・・・\n",
        "  HL_URL = \"hl=en\"\n",
        "\n",
        "  HEADERS = {\n",
        "    \"User-Agent\":\n",
        "    \"Mozilla/5.0 (Windows NT 10.0; Win64; x64) AppleWebKit/537.36 (KHTML, like Gecko) Chrome/70.0.3538.102 Safari/537.36 Edge/18.19582\"\n",
        "  }\n",
        "  url = BASE_URL + \"?\"+ GL_URL + \"&\" + HL_URL + \"&\" + _url\n",
        "  print(url)\n",
        "  html_doc = requests.get(url, headers=HEADERS, stream=True).content\n",
        "  print(html_doc)\n",
        "  return html_doc\n",
        "\n",
        "def find_result_stats(_html_doc):\n",
        "  soup = BeautifulSoup(_html_doc, \"html.parser\")\n",
        "  tag = soup.find(\"div\", {\"id\": \"result-stats\"})\n",
        "  if tag == None:\n",
        "      tag = \"About 0 results\"\n",
        "  print(\"tag=\")\n",
        "  print(tag)\n",
        "  return tag\n",
        "\n",
        "def extract_hit_count(_text):\n",
        "  text = _text\n",
        "  text = text.replace('About ', '')\n",
        "  text = text.replace('results', 'result')\n",
        "  text = re.search('(.+) result', text).group(1)\n",
        "  text = text.replace(',', '')\n",
        "  return int(text)\n",
        "\n",
        "def get_search_hit_count(keyword, year):\n",
        "    # キーワード検索\n",
        "    q_url = \"q=%22\" + keyword.replace(\" \", \"+\") + \"%22\"\n",
        "    # 期間指定\n",
        "    tbs_url = \"tbs=cdr%3A1%2Ccd_min%3A1%2F1%2F\" + str(year) + \"%2Ccd_max%3A12%2F31%2F\" + str(year)\n",
        "    try:\n",
        "      _url = q_url + \"&\" + tbs_url\n",
        "      html_doc = get_html_doc(_url)\n",
        "      tag = find_result_stats(html_doc)\n",
        "      hit_count = extract_hit_count(tag.text)\n",
        "    except Exception as e:\n",
        "      print(\"例外args:\", e.args)\n",
        "      hit_count = 0\n",
        "    return hit_count\n",
        "\n",
        "def get_search_hit_countlist(_keyword_list, _fromyear, _toyear):\n",
        "  columns = [\"keyword\", \"year\", \"hit_count\"]\n",
        "  df = pd.DataFrame(columns=columns)\n",
        "\n",
        "  year_list = list(range(_fromyear, _toyear + 1))\n",
        "  print(year_list)\n",
        "  for_list = [item for item in itertools.product(_keyword_list, year_list)]\n",
        "\n",
        "  for keyword, year in tqdm.tqdm(for_list):\n",
        "      print(keyword, year)\n",
        "      hit_count = get_search_hit_count(keyword, year)\n",
        "      sr = pd.Series([keyword, year, hit_count], index=df.columns)\n",
        "      df = df.append(sr, ignore_index=True)\n",
        "      _sleeptime = 20 + random.randrange(10) + random.randrange(10) + random.randrange(10) + random.randrange(10)\n",
        "      print(\"wait \" + str(_sleeptime) + \"[sec]\")\n",
        "      time.sleep(_sleeptime)\n",
        "\n",
        "  return df"
      ],
      "execution_count": null,
      "outputs": []
    },
    {
      "cell_type": "markdown",
      "metadata": {
        "id": "56vmddJbDalQ"
      },
      "source": [
        "# Google ドライブのマウント"
      ]
    },
    {
      "cell_type": "code",
      "metadata": {
        "id": "oV17EYghw47x"
      },
      "source": [
        "# Googleドライブのマウント\n",
        "from google.colab import drive\n",
        "drive.mount('/content/drive')\n",
        "\n",
        "import os\n",
        "# Colab Notebooksへの相対パスを定義\n",
        "_colab_dir = \"./drive/MyDrive/Colab Notebooks\"\n",
        "# カレントディレクトリの確認\n",
        "print(os.getcwd())\n",
        "# Colab Notebooksのファイル一覧を取得。Colab Notebooksにアクセス出来ていることを確認\n",
        "print(os.listdir(_colab_dir))"
      ],
      "execution_count": null,
      "outputs": []
    },
    {
      "cell_type": "markdown",
      "metadata": {
        "id": "CMclqaEfDln_"
      },
      "source": [
        "# メイン処理"
      ]
    },
    {
      "cell_type": "markdown",
      "metadata": {
        "id": "eqXsjXdNDnem"
      },
      "source": [
        "## スクレイピング関数の実行・DataFrameの取得"
      ]
    },
    {
      "cell_type": "code",
      "metadata": {
        "id": "v2kSZyQJJLTW"
      },
      "source": [
        "# ===============\n",
        "# 検索条件の指定\n",
        "# ===============\n",
        "# 検索キーワードリスト\n",
        "p_keyword_list = [\n",
        "    \"AI\",\n",
        "    \"ビッグデータ\",\n",
        "    \"ディープラーニング\",\n",
        "    \"gpgpu\",\n",
        "    \"cuDNN\"\n",
        "]\n",
        "# 検索開始年\n",
        "p_from = 2015\n",
        "# 検索終了年\n",
        "p_to = 2020\n",
        "\n",
        "# ===============\n",
        "# スクレイピング関数の実行・DataFrameの取得\n",
        "# ===============\n",
        "df = get_search_hit_countlist(p_keyword_list, p_from, p_to)"
      ],
      "execution_count": null,
      "outputs": []
    },
    {
      "cell_type": "markdown",
      "metadata": {
        "id": "r-FLJubhDqzq"
      },
      "source": [
        "## DataFrameの可視化"
      ]
    },
    {
      "cell_type": "code",
      "metadata": {
        "id": "i597UcTCzghu"
      },
      "source": [
        "from plotly.offline import iplot, plot, download_plotlyjs, init_notebook_mode\n",
        "import plotly.graph_objs as go\n",
        "\n",
        "# 可視化\n",
        "fig = px.line(df, x=\"year\", y=\"hit_count\", color='keyword',log_y=True)\n",
        "fig.show()"
      ],
      "execution_count": null,
      "outputs": []
    },
    {
      "cell_type": "markdown",
      "metadata": {
        "id": "RSyQVBPKDxLx"
      },
      "source": [
        "## 可視化結果をhtmlファイルとして保存"
      ]
    },
    {
      "cell_type": "code",
      "metadata": {
        "id": "kOmURfNdDuoW"
      },
      "source": [
        "# 保存\n",
        "import datetime\n",
        "time = datetime.datetime.now()\n",
        "_filename = time.strftime('%Y%m%d%H%M%S')\n",
        "plot(fig, filename=_colab_dir + \"/\" + _filename + \".html\", auto_open=False)"
      ],
      "execution_count": null,
      "outputs": []
    }
  ]
}